{
 "cells": [
  {
   "cell_type": "code",
   "execution_count": 1,
   "metadata": {},
   "outputs": [],
   "source": [
    "# Useful starting lines\n",
    "%matplotlib inline\n",
    "import numpy as np\n",
    "import matplotlib.pyplot as plt\n",
    "%load_ext autoreload\n",
    "%autoreload 2"
   ]
  },
  {
   "cell_type": "markdown",
   "metadata": {},
   "source": [
    "# Logistic Regression\n",
    "## Classification Using Linear Regression\n",
    "Load your data."
   ]
  },
  {
   "cell_type": "code",
   "execution_count": 2,
   "metadata": {},
   "outputs": [],
   "source": [
    "from helpers import sample_data, load_data, standardize\n",
    "\n",
    "# load data.\n",
    "height, weight, gender = load_data()\n",
    "\n",
    "# build sampled x and y.\n",
    "seed = 1\n",
    "y = np.expand_dims(gender, axis=1)\n",
    "X = np.c_[height.reshape(-1), weight.reshape(-1)]\n",
    "y, X = sample_data(y, X, seed, size_samples=200)\n",
    "x, mean_x, std_x = standardize(X)"
   ]
  },
  {
   "cell_type": "markdown",
   "metadata": {},
   "source": [
    "Use `least_squares` to compute w, and visualize the results."
   ]
  },
  {
   "cell_type": "code",
   "execution_count": 3,
   "metadata": {},
   "outputs": [
    {
     "data": {
      "image/png": "[encoded data removed]",
      "text/plain": [
       "<Figure size 432x288 with 2 Axes>"
      ]
     },
     "metadata": {
      "needs_background": "light"
     },
     "output_type": "display_data"
    }
   ],
   "source": [
    "from least_squares import least_squares\n",
    "from plots import visualization\n",
    "\n",
    "def least_square_classification_demo(y, x):\n",
    "    # ***************************************************\n",
    "    # INSERT YOUR CODE HERE\n",
    "    # classify the data by linear regression: TODO\n",
    "    # ***************************************************\n",
    "    tx = np.c_[np.ones((y.shape[0], 1)), x]\n",
    "    # w = least squares with respect to tx and y\n",
    "    w = least_squares(y,tx)\n",
    "\n",
    "    visualization(y, x, mean_x, std_x, w, \"classification_by_least_square\")\n",
    "    \n",
    "least_square_classification_demo(y, x)"
   ]
  },
  {
   "cell_type": "markdown",
   "metadata": {},
   "source": [
    "## Logistic Regression"
   ]
  },
  {
   "cell_type": "markdown",
   "metadata": {},
   "source": [
    "Compute negative log likelihood loss."
   ]
  },
  {
   "cell_type": "code",
   "execution_count": 4,
   "metadata": {},
   "outputs": [],
   "source": [
    "def sigmoid(t):\n",
    "    \"\"\"apply the sigmoid function on t.\"\"\"\n",
    "    sigma = (1+np.exp(-t))**(-1)\n",
    "    return sigma"
   ]
  },
  {
   "cell_type": "code",
   "execution_count": null,
   "metadata": {},
   "outputs": [],
   "source": []
  },
  {
   "cell_type": "code",
   "execution_count": 25,
   "metadata": {
    "tags": []
   },
   "outputs": [],
   "source": [
    "def calculate_loss(y, tx, w):\n",
    "    \"\"\"compute the loss: negative log likelihood.\"\"\"\n",
    "    t = tx.dot(w)\n",
    "    sigma = sigmoid(t)\n",
    "    loss = y*np.log(sigma)+(1-y)*np.log(1-sigma)\n",
    "    return -loss.sum()"
   ]
  },
  {
   "cell_type": "code",
   "execution_count": 27,
   "metadata": {},
   "outputs": [],
   "source": [
    "def calculate_loss(y, tx, w):\n",
    "    \"\"\"compute the loss: negative log likelihood.\"\"\"\n",
    "    predictions = sigmoid(tx.dot(w))\n",
    "    neg_losses_per_datapoitn = y * np.log(predictions) + (1- y) * np.log(1-predictions)\n",
    "    loss = -neg_losses_per_datapoitn.sum()\n",
    "    return loss"
   ]
  },
  {
   "cell_type": "code",
   "execution_count": 28,
   "metadata": {},
   "outputs": [
    {
     "data": {
      "text/plain": [
       "115.39632273179166"
      ]
     },
     "execution_count": 28,
     "metadata": {},
     "output_type": "execute_result"
    }
   ],
   "source": [
    "tx = np.c_[np.ones((y.shape[0], 1)), x]\n",
    "w = least_squares(y,tx)\n",
    "calculate_loss(y,tx,w)"
   ]
  },
  {
   "cell_type": "code",
   "execution_count": 30,
   "metadata": {
    "tags": []
   },
   "outputs": [],
   "source": [
    "def grad_sigmoid(t):\n",
    "    return sigmoid(t) * (1-sigmoid(t))"
   ]
  },
  {
   "cell_type": "code",
   "execution_count": 91,
   "metadata": {},
   "outputs": [],
   "source": [
    "def calculate_gradient(y, tx, w):\n",
    "    \"\"\"compute the gradient of loss.\"\"\"\n",
    "    predictions = sigmoid(tx.dot(w))\n",
    "    #predictions = sigmoid(w)\n",
    "    grad = (predictions - y)* tx\n",
    "    return grad\n",
    "    "
   ]
  },
  {
   "cell_type": "code",
   "execution_count": 79,
   "metadata": {},
   "outputs": [
    {
     "data": {
      "text/plain": [
       "(200, 1)"
      ]
     },
     "execution_count": 79,
     "metadata": {},
     "output_type": "execute_result"
    }
   ],
   "source": [
    "predictions = sigmoid(tx.dot(w))\n",
    "predictions.shape\n",
    "#tx = np.c_[np.ones((y.shape[0], 1)), x]\n",
    "tx.shape\n",
    "(predictions - y).shape"
   ]
  },
  {
   "cell_type": "markdown",
   "metadata": {},
   "source": [
    "### Using Gradient Descent\n",
    "Implement your function to calculate the gradient for logistic regression."
   ]
  },
  {
   "cell_type": "code",
   "execution_count": 92,
   "metadata": {
    "tags": []
   },
   "outputs": [],
   "source": [
    "def learning_by_gradient_descent(y, tx, w, gamma):\n",
    "    \"\"\"\n",
    "    Do one step of gradient descent using logistic regression.\n",
    "    Return the loss and the updated w.\n",
    "    \"\"\"\n",
    "\n",
    "    loss = calculate_loss(y,tx,w)\n",
    "    # ***************************************************\n",
    "    # INSERT YOUR CODE HERE\n",
    "    # compute the loss: TODO\n",
    "    # ***************************************************\n",
    "    grad = calculate_gradient(y,tx,w)\n",
    "    # ***************************************************\n",
    "    # INSERT YOUR CODE HERE\n",
    "    # compute the gradient: TODO\n",
    "    # ***************************************************\n",
    "    w = w - gamma*grad\n",
    "    ws.append(w)\n",
    "    # ***************************************************\n",
    "    # INSERT YOUR CODE HERE\n",
    "    # update w: TODO\n",
    "    # ***************************************************\n",
    "\n",
    "    return loss, w"
   ]
  },
  {
   "cell_type": "code",
   "execution_count": 90,
   "metadata": {},
   "outputs": [
    {
     "data": {
      "text/plain": [
       "array([[-0.31973763],\n",
       "       [ 0.53726258],\n",
       "       [ 0.51798976],\n",
       "       [ 0.59411813],\n",
       "       [-0.33343486],\n",
       "       [-0.25352726],\n",
       "       [ 0.6029881 ],\n",
       "       [ 0.49989826],\n",
       "       [ 0.53680063],\n",
       "       [-0.26676029],\n",
       "       [-0.30834222],\n",
       "       [ 0.56626858],\n",
       "       [-0.18802104],\n",
       "       [ 0.47612035],\n",
       "       [-0.22040835],\n",
       "       [-0.40493993],\n",
       "       [-0.28305189],\n",
       "       [-0.30550228],\n",
       "       [-0.27754224],\n",
       "       [-0.40410844],\n",
       "       [-0.33241448],\n",
       "       [ 0.59978849],\n",
       "       [ 0.56947886],\n",
       "       [ 0.52880871],\n",
       "       [ 0.50973304],\n",
       "       [ 0.50564377],\n",
       "       [ 0.44727225],\n",
       "       [-0.34693039],\n",
       "       [-0.25874843],\n",
       "       [-0.37662123],\n",
       "       [ 0.42403781],\n",
       "       [-0.38754816],\n",
       "       [-0.30435424],\n",
       "       [-0.23727919],\n",
       "       [-0.23524991],\n",
       "       [ 0.50622734],\n",
       "       [-0.24203182],\n",
       "       [ 0.58919518],\n",
       "       [-0.33749811],\n",
       "       [ 0.60054415],\n",
       "       [ 0.54376468],\n",
       "       [ 0.64772688],\n",
       "       [ 0.48451637],\n",
       "       [-0.31047688],\n",
       "       [-0.32140901],\n",
       "       [ 0.65419308],\n",
       "       [ 0.65420728],\n",
       "       [-0.34086119],\n",
       "       [ 0.58562733],\n",
       "       [ 0.41707123],\n",
       "       [-0.30349649],\n",
       "       [-0.31813598],\n",
       "       [ 0.66817684],\n",
       "       [ 0.58446929],\n",
       "       [-0.29839616],\n",
       "       [ 0.56271009],\n",
       "       [-0.37606425],\n",
       "       [ 0.53292639],\n",
       "       [ 0.69472065],\n",
       "       [-0.28889134],\n",
       "       [ 0.60898708],\n",
       "       [-0.32779354],\n",
       "       [-0.24390232],\n",
       "       [ 0.52124079],\n",
       "       [ 0.58394445],\n",
       "       [ 0.57041226],\n",
       "       [-0.31741751],\n",
       "       [-0.31468059],\n",
       "       [ 0.47422739],\n",
       "       [ 0.47961478],\n",
       "       [ 0.50026469],\n",
       "       [ 0.46007377],\n",
       "       [-0.36048015],\n",
       "       [-0.27857578],\n",
       "       [ 0.55009948],\n",
       "       [-0.29430358],\n",
       "       [ 0.56314173],\n",
       "       [ 0.59730187],\n",
       "       [-0.37698755],\n",
       "       [ 0.46937157],\n",
       "       [-0.32995838],\n",
       "       [-0.35131282],\n",
       "       [-0.34162646],\n",
       "       [-0.26592527],\n",
       "       [-0.33169705],\n",
       "       [ 0.54113917],\n",
       "       [ 0.57798779],\n",
       "       [-0.26633897],\n",
       "       [-0.33097397],\n",
       "       [-0.36090073],\n",
       "       [ 0.5607453 ],\n",
       "       [ 0.4607431 ],\n",
       "       [-0.29702913],\n",
       "       [ 0.63093103],\n",
       "       [ 0.59813761],\n",
       "       [ 0.58257065],\n",
       "       [ 0.4962977 ],\n",
       "       [ 0.54291679],\n",
       "       [ 0.54122396],\n",
       "       [-0.20103024],\n",
       "       [-0.25535198],\n",
       "       [ 0.61870526],\n",
       "       [-0.23131948],\n",
       "       [-0.30986361],\n",
       "       [-0.38672519],\n",
       "       [-0.32332991],\n",
       "       [-0.28684958],\n",
       "       [-0.29832386],\n",
       "       [ 0.50375433],\n",
       "       [ 0.49603424],\n",
       "       [-0.30989353],\n",
       "       [-0.34569485],\n",
       "       [ 0.51215567],\n",
       "       [-0.21518857],\n",
       "       [ 0.52722795],\n",
       "       [ 0.59901542],\n",
       "       [ 0.47759882],\n",
       "       [-0.29097787],\n",
       "       [ 0.55984595],\n",
       "       [-0.30929458],\n",
       "       [ 0.58392938],\n",
       "       [ 0.55488284],\n",
       "       [ 0.47812765],\n",
       "       [-0.29767934],\n",
       "       [ 0.59323372],\n",
       "       [-0.32445031],\n",
       "       [-0.27509986],\n",
       "       [-0.30855948],\n",
       "       [-0.34121168],\n",
       "       [-0.3734131 ],\n",
       "       [-0.39398753],\n",
       "       [-0.28472679],\n",
       "       [ 0.45343644],\n",
       "       [-0.30650758],\n",
       "       [ 0.56023104],\n",
       "       [ 0.5749772 ],\n",
       "       [-0.40271371],\n",
       "       [ 0.59663625],\n",
       "       [ 0.50340351],\n",
       "       [ 0.54795731],\n",
       "       [-0.35899951],\n",
       "       [ 0.44479503],\n",
       "       [ 0.48912529],\n",
       "       [-0.34549346],\n",
       "       [ 0.61331207],\n",
       "       [ 0.60760866],\n",
       "       [-0.23281368],\n",
       "       [ 0.48582154],\n",
       "       [ 0.5736555 ],\n",
       "       [-0.23214743],\n",
       "       [-0.28825748],\n",
       "       [ 0.45715407],\n",
       "       [-0.24550185],\n",
       "       [-0.31183405],\n",
       "       [-0.46168981],\n",
       "       [ 0.51131853],\n",
       "       [-0.34096158],\n",
       "       [-0.3272086 ],\n",
       "       [ 0.55770006],\n",
       "       [ 0.63134302],\n",
       "       [-0.2714211 ],\n",
       "       [ 0.56326965],\n",
       "       [-0.38472888],\n",
       "       [ 0.58848243],\n",
       "       [-0.29240545],\n",
       "       [-0.30275917],\n",
       "       [ 0.49543647],\n",
       "       [-0.24801359],\n",
       "       [ 0.57404103],\n",
       "       [-0.36327599],\n",
       "       [-0.38429315],\n",
       "       [-0.27162715],\n",
       "       [-0.27586508],\n",
       "       [ 0.53247776],\n",
       "       [ 0.49736884],\n",
       "       [ 0.57477415],\n",
       "       [-0.26342182],\n",
       "       [ 0.55144555],\n",
       "       [-0.35455378],\n",
       "       [ 0.43403348],\n",
       "       [-0.25588912],\n",
       "       [-0.34664519],\n",
       "       [ 0.50899859],\n",
       "       [ 0.5249496 ],\n",
       "       [-0.2455014 ],\n",
       "       [ 0.54657417],\n",
       "       [-0.32481778],\n",
       "       [ 0.4919731 ],\n",
       "       [-0.20963104],\n",
       "       [-0.30535654],\n",
       "       [-0.25198399],\n",
       "       [ 0.55767544],\n",
       "       [ 0.5582517 ],\n",
       "       [ 0.54729478],\n",
       "       [ 0.55308158],\n",
       "       [ 0.55942538],\n",
       "       [-0.2325634 ],\n",
       "       [-0.26850052],\n",
       "       [-0.32376318],\n",
       "       [-0.310325  ]])"
      ]
     },
     "execution_count": 90,
     "metadata": {},
     "output_type": "execute_result"
    }
   ],
   "source": [
    "w = np.zeros((tx.shape[1], 1))\n",
    "w.shape\n",
    "predictions - y"
   ]
  },
  {
   "cell_type": "code",
   "execution_count": 86,
   "metadata": {},
   "outputs": [
    {
     "data": {
      "text/plain": [
       "(200, 3)"
      ]
     },
     "execution_count": 86,
     "metadata": {},
     "output_type": "execute_result"
    }
   ],
   "source": [
    "tx = np.c_[np.ones((y.shape[0], 1)), x]\n",
    "tx.shape"
   ]
  },
  {
   "cell_type": "markdown",
   "metadata": {},
   "source": [
    "Demo!"
   ]
  },
  {
   "cell_type": "code",
   "execution_count": 93,
   "metadata": {},
   "outputs": [
    {
     "data": {
      "text/plain": [
       "array([[-5.00000000e-01,  6.13360419e-01,  4.01061584e-01],\n",
       "       [ 5.00000000e-01,  5.29250281e-01,  4.84686432e-01],\n",
       "       [ 5.00000000e-01,  4.90622812e-01,  5.45565977e-01],\n",
       "       [ 5.00000000e-01,  3.76905861e-01,  2.26436331e-01],\n",
       "       [-5.00000000e-01, -3.18156589e-01,  7.95961043e-02],\n",
       "       [-5.00000000e-01,  2.79761196e-01,  6.08345554e-01],\n",
       "       [ 5.00000000e-01,  2.72775105e-01,  1.62688672e-01],\n",
       "       [ 5.00000000e-01,  7.43430643e-01,  6.84337504e-01],\n",
       "       [ 5.00000000e-01,  6.37138823e-01,  5.16945193e-01],\n",
       "       [-5.00000000e-01,  8.91188738e-01,  7.17533111e-01],\n",
       "       [-5.00000000e-01,  6.80028179e-02,  2.95843499e-01],\n",
       "       [ 5.00000000e-01, -2.12506371e-01,  1.65828284e-01],\n",
       "       [-5.00000000e-01,  3.90500488e-01,  9.95351757e-01],\n",
       "       [ 5.00000000e-01,  8.17732244e-01,  7.93749225e-01],\n",
       "       [-5.00000000e-01,  6.33499246e-01,  8.78753842e-01],\n",
       "       [-5.00000000e-01,  3.62407131e-01, -1.35752132e-02],\n",
       "       [-5.00000000e-01,  5.15237147e-01,  5.35226975e-01],\n",
       "       [-5.00000000e-01,  1.81404444e-01,  3.40333983e-01],\n",
       "       [-5.00000000e-01,  4.88517330e-01,  5.53026189e-01],\n",
       "       [-5.00000000e-01, -2.79904090e-01, -1.92150282e-01],\n",
       "       [-5.00000000e-01, -3.73792392e-03,  1.72845915e-01],\n",
       "       [ 5.00000000e-01, -2.00461890e-01,  4.11516841e-02],\n",
       "       [ 5.00000000e-01,  1.91388879e-02,  2.19238624e-01],\n",
       "       [ 5.00000000e-01,  9.03364168e-01,  6.22102146e-01],\n",
       "       [ 5.00000000e-01,  4.72182418e-01,  5.71038642e-01],\n",
       "       [ 5.00000000e-01,  1.60343527e-01,  4.97977305e-01],\n",
       "       [ 5.00000000e-01,  6.42669679e-01,  8.52016012e-01],\n",
       "       [-5.00000000e-01,  3.20928265e-01,  2.04628751e-01],\n",
       "       [-5.00000000e-01,  4.92475152e-01,  6.43099703e-01],\n",
       "       [-5.00000000e-01, -3.11985596e-01, -9.39457980e-02],\n",
       "       [ 5.00000000e-01,  7.79090038e-01,  9.78392210e-01],\n",
       "       [-5.00000000e-01, -3.93331661e-01, -1.59944768e-01],\n",
       "       [-5.00000000e-01,  4.71555467e-01,  4.27479155e-01],\n",
       "       [-5.00000000e-01,  6.06427147e-01,  7.82291291e-01],\n",
       "       [-5.00000000e-01,  6.53561006e-01,  8.06073229e-01],\n",
       "       [ 5.00000000e-01,  8.53152369e-01,  6.91881079e-01],\n",
       "       [-5.00000000e-01,  5.53470694e-01,  7.43085252e-01],\n",
       "       [ 5.00000000e-01,  1.68699289e-01,  1.86432707e-01],\n",
       "       [-5.00000000e-01, -1.03691965e-01,  1.23367090e-01],\n",
       "       [ 5.00000000e-01,  3.84932385e-01,  2.03899902e-01],\n",
       "       [ 5.00000000e-01,  2.83987435e-01,  3.90964553e-01],\n",
       "       [ 5.00000000e-01,  6.72432696e-02, -7.29540337e-02],\n",
       "       [ 5.00000000e-01,  5.74611882e-01,  6.93710097e-01],\n",
       "       [-5.00000000e-01,  2.70552565e-01,  3.43890586e-01],\n",
       "       [-5.00000000e-01, -1.15383143e-01,  1.87694658e-01],\n",
       "       [ 5.00000000e-01, -6.07115794e-01, -2.90230388e-01],\n",
       "       [ 5.00000000e-01,  1.11729618e-01, -8.68484825e-02],\n",
       "       [-5.00000000e-01,  3.65138443e-01,  2.42118004e-01],\n",
       "       [ 5.00000000e-01, -1.07170960e-01,  1.22028355e-01],\n",
       "       [ 5.00000000e-01,  9.51585730e-01,  1.05375616e+00],\n",
       "       [-5.00000000e-01,  8.00683035e-01,  5.24390270e-01],\n",
       "       [-5.00000000e-01,  1.44114962e-01,  2.75107290e-01],\n",
       "       [ 5.00000000e-01, -5.71926101e-01, -3.38239728e-01],\n",
       "       [ 5.00000000e-01, -1.61192175e-01,  1.11169180e-01],\n",
       "       [-5.00000000e-01, -3.54422809e-02,  3.10270690e-01],\n",
       "       [ 5.00000000e-01,  5.01575348e-01,  3.81360946e-01],\n",
       "       [-5.00000000e-01, -3.42222098e-02, -1.31325592e-02],\n",
       "       [ 5.00000000e-01,  9.38543387e-01,  6.16705699e-01],\n",
       "       [ 5.00000000e-01, -5.13714478e-01, -4.35356800e-01],\n",
       "       [-5.00000000e-01,  6.28347558e-01,  5.40683013e-01],\n",
       "       [ 5.00000000e-01,  5.35153014e-01,  2.13614052e-01],\n",
       "       [-5.00000000e-01,  6.44987597e-01,  3.75845139e-01],\n",
       "       [-5.00000000e-01,  4.82692625e-01,  7.13611514e-01],\n",
       "       [ 5.00000000e-01,  2.93570673e-01,  4.77704688e-01],\n",
       "       [ 5.00000000e-01, -2.63916751e-01,  8.41034317e-02],\n",
       "       [ 5.00000000e-01,  6.10904713e-01,  3.83178014e-01],\n",
       "       [-5.00000000e-01,  2.24433636e-01,  3.00915523e-01],\n",
       "       [-5.00000000e-01,  4.36791212e-01,  3.72771633e-01],\n",
       "       [ 5.00000000e-01,  6.41030471e-01,  7.50789143e-01],\n",
       "       [ 5.00000000e-01,  8.27984437e-01,  7.83646122e-01],\n",
       "       [ 5.00000000e-01,  3.68552591e-01,  5.76882381e-01],\n",
       "       [ 5.00000000e-01,  8.73911999e-01,  8.69497853e-01],\n",
       "       [-5.00000000e-01, -1.49926136e-01,  1.63289380e-02],\n",
       "       [-5.00000000e-01,  4.09652291e-01,  5.25925853e-01],\n",
       "       [ 5.00000000e-01,  5.07547779e-01,  4.30496064e-01],\n",
       "       [-5.00000000e-01, -5.89680343e-02,  3.21836783e-01],\n",
       "       [ 5.00000000e-01,  5.78548522e-01,  4.01516100e-01],\n",
       "       [ 5.00000000e-01,  2.71762754e-03,  1.08262585e-01],\n",
       "       [-5.00000000e-01,  1.33880797e-01,  3.07901600e-02],\n",
       "       [ 5.00000000e-01,  1.89408079e-01,  6.41068865e-01],\n",
       "       [-5.00000000e-01,  3.97988172e-01,  2.96834453e-01],\n",
       "       [-5.00000000e-01,  6.00795928e-01,  2.65925922e-01],\n",
       "       [-5.00000000e-01,  4.00484945e-01,  2.48960365e-01],\n",
       "       [-5.00000000e-01,  7.72804695e-01,  6.87997257e-01],\n",
       "       [-5.00000000e-01,  5.73236407e-01,  3.39138738e-01],\n",
       "       [ 5.00000000e-01, -2.32544657e-01,  2.54603506e-01],\n",
       "       [ 5.00000000e-01,  4.02325929e-01,  2.95376879e-01],\n",
       "       [-5.00000000e-01,  4.92272784e-01,  6.06637148e-01],\n",
       "       [-5.00000000e-01,  3.71938661e-01,  2.85200077e-01],\n",
       "       [-5.00000000e-01,  7.22410115e-02,  7.75108052e-02],\n",
       "       [ 5.00000000e-01,  7.48849235e-02,  2.68014052e-01],\n",
       "       [ 5.00000000e-01,  6.93588657e-01,  8.15962863e-01],\n",
       "       [-5.00000000e-01,  5.43463410e-01,  4.80177728e-01],\n",
       "       [ 5.00000000e-01, -5.91766621e-02, -4.10877327e-02],\n",
       "       [ 5.00000000e-01,  1.70652489e-02,  1.09095689e-01],\n",
       "       [ 5.00000000e-01,  3.56070099e-01,  2.64813798e-01],\n",
       "       [ 5.00000000e-01,  4.91277433e-01,  6.26349185e-01],\n",
       "       [ 5.00000000e-01,  2.53200448e-01,  3.85424638e-01],\n",
       "       [ 5.00000000e-01,  7.05758905e-01,  5.19835398e-01],\n",
       "       [-5.00000000e-01,  1.14676055e+00,  1.13226181e+00],\n",
       "       [-5.00000000e-01,  9.47278582e-01,  7.88327722e-01],\n",
       "       [ 5.00000000e-01, -2.91657366e-01, -5.84517955e-02],\n",
       "       [-5.00000000e-01,  4.32434513e-01,  7.63897186e-01],\n",
       "       [-5.00000000e-01, -7.46316793e-03,  2.67870865e-01],\n",
       "       [-5.00000000e-01, -3.23763262e-01, -1.37035456e-01],\n",
       "       [-5.00000000e-01,  4.02132216e-01,  3.25991348e-01],\n",
       "       [-5.00000000e-01,  6.89503431e-01,  5.67238903e-01],\n",
       "       [-5.00000000e-01,  4.58978772e-01,  4.50517312e-01],\n",
       "       [ 5.00000000e-01,  5.79404450e-01,  6.23594002e-01],\n",
       "       [ 5.00000000e-01,  9.29085907e-01,  7.51231821e-01],\n",
       "       [-5.00000000e-01,  1.45256865e-01,  3.10962204e-01],\n",
       "       [-5.00000000e-01, -3.94633396e-01,  7.18576647e-03],\n",
       "       [ 5.00000000e-01,  7.07576806e-01,  6.28655038e-01],\n",
       "       [-5.00000000e-01,  7.00484451e-01,  9.26162523e-01],\n",
       "       [ 5.00000000e-01,  5.02837937e-01,  5.14639130e-01],\n",
       "       [ 5.00000000e-01,  3.40619124e-01,  1.97272330e-01],\n",
       "       [ 5.00000000e-01,  6.54855603e-01,  7.42150403e-01],\n",
       "       [-5.00000000e-01,  7.21868006e-01,  5.57739219e-01],\n",
       "       [ 5.00000000e-01,  5.24203364e-01,  3.98565178e-01],\n",
       "       [-5.00000000e-01,  5.35712707e-01,  4.24066942e-01],\n",
       "       [ 5.00000000e-01, -1.21690230e-01,  1.24412481e-01],\n",
       "       [ 5.00000000e-01,  2.72316803e-01,  3.45958881e-01],\n",
       "       [ 5.00000000e-01,  5.57043597e-01,  7.12500631e-01],\n",
       "       [-5.00000000e-01,  9.33497336e-01,  5.87671434e-01],\n",
       "       [ 5.00000000e-01,  3.19310373e-01,  2.13540654e-01],\n",
       "       [-5.00000000e-01,  2.36103374e-01,  2.74252788e-01],\n",
       "       [-5.00000000e-01,  8.66841547e-01,  6.71436851e-01],\n",
       "       [-5.00000000e-01,  2.68100098e-01,  3.51527205e-01],\n",
       "       [-5.00000000e-01,  1.87249685e-01,  1.90325591e-01],\n",
       "       [-5.00000000e-01, -4.75119681e-01, -1.27404442e-01],\n",
       "       [-5.00000000e-01, -8.00814693e-02, -9.64082395e-02],\n",
       "       [-5.00000000e-01,  9.57276435e-01,  6.52678284e-01],\n",
       "       [ 5.00000000e-01,  4.30232866e-01,  7.68770988e-01],\n",
       "       [-5.00000000e-01,  4.07095163e-01,  3.99811058e-01],\n",
       "       [ 5.00000000e-01,  3.33606215e-01,  3.43173096e-01],\n",
       "       [ 5.00000000e-01, -4.48055536e-02,  1.80284253e-01],\n",
       "       [-5.00000000e-01, -1.40689831e-01, -1.47370190e-01],\n",
       "       [ 5.00000000e-01, -9.04163448e-02,  8.44736179e-02],\n",
       "       [ 5.00000000e-01,  5.26585272e-01,  6.09948727e-01],\n",
       "       [ 5.00000000e-01,  6.56005269e-01,  4.80544699e-01],\n",
       "       [-5.00000000e-01, -1.27156118e-02,  6.11299829e-02],\n",
       "       [ 5.00000000e-01,  8.12062790e-01,  9.09265250e-01],\n",
       "       [ 5.00000000e-01,  5.60505034e-01,  6.72587219e-01],\n",
       "       [-5.00000000e-01,  3.03197847e-01,  2.05505593e-01],\n",
       "       [ 5.00000000e-01, -1.87346381e-02,  3.99593358e-02],\n",
       "       [ 5.00000000e-01, -1.68206256e-01,  1.99283300e-02],\n",
       "       [-5.00000000e-01,  6.39544931e-01,  8.14726058e-01],\n",
       "       [ 5.00000000e-01,  6.43182282e-01,  7.08264250e-01],\n",
       "       [ 5.00000000e-01,  2.30470117e-01,  2.63209899e-01],\n",
       "       [-5.00000000e-01,  7.80004512e-01,  8.57944568e-01],\n",
       "       [-5.00000000e-01,  2.94117505e-01,  4.48959560e-01],\n",
       "       [ 5.00000000e-01,  1.11345460e+00,  9.48209943e-01],\n",
       "       [-5.00000000e-01,  2.22700462e-01,  6.31995126e-01],\n",
       "       [-5.00000000e-01,  1.96854943e-01,  3.17153923e-01],\n",
       "       [-5.00000000e-01,  6.40462420e-04, -3.30808834e-01],\n",
       "       [ 5.00000000e-01,  7.02703474e-01,  6.30386889e-01],\n",
       "       [-5.00000000e-01,  1.68021440e-01,  1.85917102e-01],\n",
       "       [-5.00000000e-01, -5.95265397e-02,  1.78926965e-01],\n",
       "       [ 5.00000000e-01,  4.36511148e-01,  3.81829391e-01],\n",
       "       [ 5.00000000e-01, -5.02466717e-01, -1.68186318e-01],\n",
       "       [-5.00000000e-01,  4.02634287e-02,  4.54708383e-01],\n",
       "       [ 5.00000000e-01, -1.06152022e-01,  2.07256380e-01],\n",
       "       [-5.00000000e-01,  1.84132872e-01,  1.45274417e-02],\n",
       "       [ 5.00000000e-01,  8.84623431e-02,  1.66458496e-01],\n",
       "       [-5.00000000e-01,  6.24271859e-01,  5.23702620e-01],\n",
       "       [-5.00000000e-01,  3.51328894e-01,  4.00459724e-01],\n",
       "       [ 5.00000000e-01,  7.53088847e-01,  7.03643368e-01],\n",
       "       [-5.00000000e-01,  5.55498560e-01,  7.13632106e-01],\n",
       "       [ 5.00000000e-01,  1.04994630e-01,  2.26235265e-01],\n",
       "       [-5.00000000e-01,  1.83767072e-01,  9.95250570e-02],\n",
       "       [-5.00000000e-01, -8.50294422e-02, -5.99385085e-02],\n",
       "       [-5.00000000e-01,  2.25898586e-01,  5.06277657e-01],\n",
       "       [-5.00000000e-01,  7.84789290e-01,  6.44655278e-01],\n",
       "       [ 5.00000000e-01,  6.22837605e-01,  5.29031372e-01],\n",
       "       [ 5.00000000e-01,  3.62734881e-01,  5.85991800e-01],\n",
       "       [ 5.00000000e-01,  1.89658639e-01,  2.47411360e-01],\n",
       "       [-5.00000000e-01,  7.68103627e-01,  6.98611001e-01],\n",
       "       [ 5.00000000e-01,  6.10262818e-01,  4.54513734e-01],\n",
       "       [-5.00000000e-01,  5.88762315e-01,  2.49342545e-01],\n",
       "       [ 5.00000000e-01,  1.16155438e+00,  1.04874271e+00],\n",
       "       [-5.00000000e-01,  7.33151367e-02,  5.38366401e-01],\n",
       "       [-5.00000000e-01,  2.08085178e-04,  1.15030907e-01],\n",
       "       [ 5.00000000e-01,  1.32535956e-01,  4.77644281e-01],\n",
       "       [ 5.00000000e-01,  3.68314618e-01,  4.85053129e-01],\n",
       "       [-5.00000000e-01,  4.37011003e-01,  6.92649353e-01],\n",
       "       [ 5.00000000e-01,  2.15436596e-01,  3.61043109e-01],\n",
       "       [-5.00000000e-01,  2.50247860e-01,  2.76699535e-01],\n",
       "       [ 5.00000000e-01,  4.75842696e-01,  6.38045801e-01],\n",
       "       [-5.00000000e-01,  9.36805776e-01,  1.02389220e+00],\n",
       "       [-5.00000000e-01,  2.27834980e-01,  3.54112201e-01],\n",
       "       [-5.00000000e-01,  1.88739699e-01,  5.90172893e-01],\n",
       "       [ 5.00000000e-01,  4.41692293e-01,  3.83388366e-01],\n",
       "       [ 5.00000000e-01,  1.60943948e-01,  3.01764381e-01],\n",
       "       [ 5.00000000e-01,  4.40698388e-01,  4.22094055e-01],\n",
       "       [ 5.00000000e-01,  4.71253870e-01,  4.09029156e-01],\n",
       "       [ 5.00000000e-01,  1.09781174e-01,  2.82864305e-01],\n",
       "       [-5.00000000e-01,  1.00586572e+00,  9.19699981e-01],\n",
       "       [-5.00000000e-01,  5.80466192e-01,  6.21351422e-01],\n",
       "       [-5.00000000e-01,  1.59303434e-01,  2.55430254e-01],\n",
       "       [-5.00000000e-01,  6.59722867e-01,  4.54688369e-01]])"
      ]
     },
     "execution_count": 93,
     "metadata": {},
     "output_type": "execute_result"
    }
   ],
   "source": [
    "calculate_gradient(y, tx, w)"
   ]
  },
  {
   "cell_type": "code",
   "execution_count": 94,
   "metadata": {},
   "outputs": [
    {
     "ename": "ValueError",
     "evalue": "operands could not be broadcast together with shapes (3,1) (200,3) ",
     "output_type": "error",
     "traceback": [
      "\u001b[0;31m---------------------------------------------------------------------------\u001b[0m",
      "\u001b[0;31mValueError\u001b[0m                                Traceback (most recent call last)",
      "\u001b[0;32m/tmp/ipykernel_43/2481129974.py\u001b[0m in \u001b[0;36m<module>\u001b[0;34m\u001b[0m\n\u001b[1;32m     27\u001b[0m     \u001b[0mprint\u001b[0m\u001b[0;34m(\u001b[0m\u001b[0;34m\"loss={l}\"\u001b[0m\u001b[0;34m.\u001b[0m\u001b[0mformat\u001b[0m\u001b[0;34m(\u001b[0m\u001b[0ml\u001b[0m\u001b[0;34m=\u001b[0m\u001b[0mcalculate_loss\u001b[0m\u001b[0;34m(\u001b[0m\u001b[0my\u001b[0m\u001b[0;34m,\u001b[0m \u001b[0mtx\u001b[0m\u001b[0;34m,\u001b[0m \u001b[0mw\u001b[0m\u001b[0;34m)\u001b[0m\u001b[0;34m)\u001b[0m\u001b[0;34m)\u001b[0m\u001b[0;34m\u001b[0m\u001b[0;34m\u001b[0m\u001b[0m\n\u001b[1;32m     28\u001b[0m \u001b[0;34m\u001b[0m\u001b[0m\n\u001b[0;32m---> 29\u001b[0;31m \u001b[0mlogistic_regression_gradient_descent_demo\u001b[0m\u001b[0;34m(\u001b[0m\u001b[0my\u001b[0m\u001b[0;34m,\u001b[0m \u001b[0mx\u001b[0m\u001b[0;34m)\u001b[0m\u001b[0;34m\u001b[0m\u001b[0;34m\u001b[0m\u001b[0m\n\u001b[0m",
      "\u001b[0;32m/tmp/ipykernel_43/2481129974.py\u001b[0m in \u001b[0;36mlogistic_regression_gradient_descent_demo\u001b[0;34m(y, x)\u001b[0m\n\u001b[1;32m     15\u001b[0m     \u001b[0;32mfor\u001b[0m \u001b[0miter\u001b[0m \u001b[0;32min\u001b[0m \u001b[0mrange\u001b[0m\u001b[0;34m(\u001b[0m\u001b[0mmax_iter\u001b[0m\u001b[0;34m)\u001b[0m\u001b[0;34m:\u001b[0m\u001b[0;34m\u001b[0m\u001b[0;34m\u001b[0m\u001b[0m\n\u001b[1;32m     16\u001b[0m         \u001b[0;31m# get loss and update w.\u001b[0m\u001b[0;34m\u001b[0m\u001b[0;34m\u001b[0m\u001b[0;34m\u001b[0m\u001b[0m\n\u001b[0;32m---> 17\u001b[0;31m         \u001b[0mloss\u001b[0m\u001b[0;34m,\u001b[0m \u001b[0mw\u001b[0m \u001b[0;34m=\u001b[0m \u001b[0mlearning_by_gradient_descent\u001b[0m\u001b[0;34m(\u001b[0m\u001b[0my\u001b[0m\u001b[0;34m,\u001b[0m \u001b[0mtx\u001b[0m\u001b[0;34m,\u001b[0m \u001b[0mw\u001b[0m\u001b[0;34m,\u001b[0m \u001b[0mgamma\u001b[0m\u001b[0;34m)\u001b[0m\u001b[0;34m\u001b[0m\u001b[0;34m\u001b[0m\u001b[0m\n\u001b[0m\u001b[1;32m     18\u001b[0m         \u001b[0;31m# log info\u001b[0m\u001b[0;34m\u001b[0m\u001b[0;34m\u001b[0m\u001b[0;34m\u001b[0m\u001b[0m\n\u001b[1;32m     19\u001b[0m         \u001b[0;32mif\u001b[0m \u001b[0miter\u001b[0m \u001b[0;34m%\u001b[0m \u001b[0;36m100\u001b[0m \u001b[0;34m==\u001b[0m \u001b[0;36m0\u001b[0m\u001b[0;34m:\u001b[0m\u001b[0;34m\u001b[0m\u001b[0;34m\u001b[0m\u001b[0m\n",
      "\u001b[0;32m/tmp/ipykernel_43/863462935.py\u001b[0m in \u001b[0;36mlearning_by_gradient_descent\u001b[0;34m(y, tx, w, gamma)\u001b[0m\n\u001b[1;32m     15\u001b[0m     \u001b[0;31m# compute the gradient: TODO\u001b[0m\u001b[0;34m\u001b[0m\u001b[0;34m\u001b[0m\u001b[0;34m\u001b[0m\u001b[0m\n\u001b[1;32m     16\u001b[0m     \u001b[0;31m# ***************************************************\u001b[0m\u001b[0;34m\u001b[0m\u001b[0;34m\u001b[0m\u001b[0;34m\u001b[0m\u001b[0m\n\u001b[0;32m---> 17\u001b[0;31m     \u001b[0mw\u001b[0m \u001b[0;34m=\u001b[0m \u001b[0mw\u001b[0m \u001b[0;34m-\u001b[0m \u001b[0mgamma\u001b[0m\u001b[0;34m*\u001b[0m\u001b[0mgrad\u001b[0m\u001b[0;34m\u001b[0m\u001b[0;34m\u001b[0m\u001b[0m\n\u001b[0m\u001b[1;32m     18\u001b[0m     \u001b[0mws\u001b[0m\u001b[0;34m.\u001b[0m\u001b[0mappend\u001b[0m\u001b[0;34m(\u001b[0m\u001b[0mw\u001b[0m\u001b[0;34m)\u001b[0m\u001b[0;34m\u001b[0m\u001b[0;34m\u001b[0m\u001b[0m\n\u001b[1;32m     19\u001b[0m     \u001b[0;31m# ***************************************************\u001b[0m\u001b[0;34m\u001b[0m\u001b[0;34m\u001b[0m\u001b[0;34m\u001b[0m\u001b[0m\n",
      "\u001b[0;31mValueError\u001b[0m: operands could not be broadcast together with shapes (3,1) (200,3) "
     ]
    }
   ],
   "source": [
    "from helpers import de_standardize\n",
    "\n",
    "def logistic_regression_gradient_descent_demo(y, x):\n",
    "    # init parameters\n",
    "    max_iter = 10000\n",
    "    threshold = 1e-8\n",
    "    gamma = 0.01\n",
    "    losses = []\n",
    "\n",
    "    # build tx\n",
    "    tx = np.c_[np.ones((y.shape[0], 1)), x]\n",
    "    w = np.zeros((tx.shape[1], 1))\n",
    "\n",
    "    # start the logistic regression\n",
    "    for iter in range(max_iter):\n",
    "        # get loss and update w.\n",
    "        loss, w = learning_by_gradient_descent(y, tx, w, gamma)\n",
    "        # log info\n",
    "        if iter % 100 == 0:\n",
    "            print(\"Current iteration={i}, loss={l}\".format(i=iter, l=loss))\n",
    "        # converge criterion\n",
    "        losses.append(loss)\n",
    "        if len(losses) > 1 and np.abs(losses[-1] - losses[-2]) < threshold:\n",
    "            break\n",
    "    # visualization\n",
    "    visualization(y, x, mean_x, std_x, w, \"classification_by_logistic_regression_gradient_descent\", True)\n",
    "    print(\"loss={l}\".format(l=calculate_loss(y, tx, w)))\n",
    "\n",
    "logistic_regression_gradient_descent_demo(y, x)"
   ]
  },
  {
   "cell_type": "markdown",
   "metadata": {},
   "source": [
    "Calculate your Hessian below"
   ]
  },
  {
   "cell_type": "code",
   "execution_count": 82,
   "metadata": {
    "tags": []
   },
   "outputs": [],
   "source": [
    "def calculate_hessian(y, tx, w):\n",
    "    \"\"\"return the Hessian of the loss function.\"\"\"\n",
    "    predictions = sigmoid(tx.dot(w))\n",
    "    hessian = tx.T.dot(predictions * (1-predictions) * tx)\n",
    "    return hessian\n",
    "                         "
   ]
  },
  {
   "cell_type": "markdown",
   "metadata": {},
   "source": [
    "Write a function below to return loss, gradient, and Hessian."
   ]
  },
  {
   "cell_type": "code",
   "execution_count": null,
   "metadata": {
    "collapsed": true,
    "jupyter": {
     "outputs_hidden": true
    }
   },
   "outputs": [],
   "source": [
    "def logistic_regression(y, tx, w):\n",
    "    \"\"\"return the loss, gradient, and Hessian.\"\"\"\n",
    "    # ***************************************************\n",
    "    # INSERT YOUR CODE HERE\n",
    "    # return loss, gradient, and Hessian: TODO\n",
    "    # ***************************************************\n",
    "    raise NotImplementedError"
   ]
  },
  {
   "cell_type": "markdown",
   "metadata": {},
   "source": [
    "### Using Newton's method\n",
    "Use Newton's method for logistic regression."
   ]
  },
  {
   "cell_type": "code",
   "execution_count": null,
   "metadata": {
    "collapsed": true,
    "jupyter": {
     "outputs_hidden": true
    }
   },
   "outputs": [],
   "source": [
    "def learning_by_newton_method(y, tx, w, gamma):\n",
    "    \"\"\"\n",
    "    Do one step on Newton's method.\n",
    "    return the loss and updated w.\n",
    "    \"\"\"\n",
    "    # ***************************************************\n",
    "    # INSERT YOUR CODE HERE\n",
    "    # return loss, gradient and Hessian: TODO\n",
    "    # ***************************************************\n",
    "    raise NotImplementedError\n",
    "    # ***************************************************\n",
    "    # INSERT YOUR CODE HERE\n",
    "    # update w: TODO\n",
    "    # ***************************************************\n",
    "    raise NotImplementedError\n",
    "    return loss, w"
   ]
  },
  {
   "cell_type": "markdown",
   "metadata": {},
   "source": [
    "demo"
   ]
  },
  {
   "cell_type": "code",
   "execution_count": null,
   "metadata": {
    "scrolled": true
   },
   "outputs": [],
   "source": [
    "def logistic_regression_newton_method_demo(y, x):\n",
    "    # init parameters\n",
    "    max_iter = 100\n",
    "    threshold = 1e-8\n",
    "    lambda_ = 0.1\n",
    "    gamma = 1.\n",
    "    losses = []\n",
    "\n",
    "    # build tx\n",
    "    tx = np.c_[np.ones((y.shape[0], 1)), x]\n",
    "    w = np.zeros((tx.shape[1], 1))\n",
    "\n",
    "    # start the logistic regression\n",
    "    for iter in range(max_iter):\n",
    "        # get loss and update w.\n",
    "        loss, w = learning_by_newton_method(y, tx, w, gamma)\n",
    "        # log info\n",
    "        if iter % 1 == 0:\n",
    "            print(\"Current iteration={i}, the loss={l}\".format(i=iter, l=loss))\n",
    "        # converge criterion\n",
    "        losses.append(loss)\n",
    "        if len(losses) > 1 and np.abs(losses[-1] - losses[-2]) < threshold:\n",
    "            break\n",
    "    # visualization\n",
    "    visualization(y, x, mean_x, std_x, w, \"classification_by_logistic_regression_newton_method\",True)\n",
    "    print(\"loss={l}\".format(l=calculate_loss(y, tx, w)))\n",
    "\n",
    "logistic_regression_newton_method_demo(y, x)"
   ]
  },
  {
   "cell_type": "markdown",
   "metadata": {},
   "source": [
    "### Using penalized logistic regression (first-order, no Newton)\n",
    "Fill in the function below."
   ]
  },
  {
   "cell_type": "code",
   "execution_count": null,
   "metadata": {
    "collapsed": true,
    "jupyter": {
     "outputs_hidden": true
    }
   },
   "outputs": [],
   "source": [
    "def penalized_logistic_regression(y, tx, w, lambda_):\n",
    "    \"\"\"return the loss, gradient\"\"\"\n",
    "    # ***************************************************\n",
    "    # INSERT YOUR CODE HERE\n",
    "    # return loss, gradient, and Hessian: TODO\n",
    "    # ***************************************************\n",
    "    raise NotImplementedError"
   ]
  },
  {
   "cell_type": "code",
   "execution_count": null,
   "metadata": {
    "collapsed": true,
    "jupyter": {
     "outputs_hidden": true
    }
   },
   "outputs": [],
   "source": [
    "def learning_by_penalized_gradient(y, tx, w, gamma, lambda_):\n",
    "    \"\"\"\n",
    "    Do one step of gradient descent, using the penalized logistic regression.\n",
    "    Return the loss and updated w.\n",
    "    \"\"\"\n",
    "    # ***************************************************\n",
    "    # INSERT YOUR CODE HERE\n",
    "    # return loss, gradient: TODO\n",
    "    # ***************************************************\n",
    "    raise NotImplementedError\n",
    "    # ***************************************************\n",
    "    # INSERT YOUR CODE HERE\n",
    "    # update w: TODO\n",
    "    # ***************************************************\n",
    "    raise NotImplementedError\n",
    "    return loss, w"
   ]
  },
  {
   "cell_type": "code",
   "execution_count": null,
   "metadata": {},
   "outputs": [],
   "source": [
    "def logistic_regression_penalized_gradient_descent_demo(y, x):\n",
    "    # init parameters\n",
    "    max_iter = 10000\n",
    "    gamma = 0.01\n",
    "    lambda_ = 0.1\n",
    "    threshold = 1e-8\n",
    "    losses = []\n",
    "\n",
    "    # build tx\n",
    "    tx = np.c_[np.ones((y.shape[0], 1)), x]\n",
    "    w = np.zeros((tx.shape[1], 1))\n",
    "\n",
    "    # start the logistic regression\n",
    "    for iter in range(max_iter):\n",
    "        # get loss and update w.\n",
    "        loss, w = learning_by_penalized_gradient(y, tx, w, gamma, lambda_)\n",
    "        # log info\n",
    "        if iter % 100 == 0:\n",
    "            print(\"Current iteration={i}, loss={l}\".format(i=iter, l=loss))\n",
    "        # converge criterion\n",
    "        losses.append(loss)\n",
    "        if len(losses) > 1 and np.abs(losses[-1] - losses[-2]) < threshold:\n",
    "            break\n",
    "    # visualization\n",
    "    visualization(y, x, mean_x, std_x, w, \"classification_by_logistic_regression_penalized_gradient_descent\",True)\n",
    "    print(\"loss={l}\".format(l=calculate_loss(y, tx, w)))\n",
    "    \n",
    "logistic_regression_penalized_gradient_descent_demo(y, x)"
   ]
  },
  {
   "cell_type": "code",
   "execution_count": null,
   "metadata": {
    "collapsed": true,
    "jupyter": {
     "outputs_hidden": true
    }
   },
   "outputs": [],
   "source": []
  }
 ],
 "metadata": {
  "anaconda-cloud": {},
  "kernelspec": {
   "display_name": "Python",
   "language": "python",
   "name": "python3"
  },
  "language_info": {
   "codemirror_mode": {
    "name": "ipython",
    "version": 3
   },
   "file_extension": ".py",
   "mimetype": "text/x-python",
   "name": "python",
   "nbconvert_exporter": "python",
   "pygments_lexer": "ipython3",
   "version": "3.8.10"
  }
 },
 "nbformat": 4,
 "nbformat_minor": 4
}
